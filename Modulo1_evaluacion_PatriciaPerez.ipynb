{
 "cells": [
  {
   "cell_type": "code",
   "execution_count": null,
   "metadata": {},
   "outputs": [],
   "source": [
    "# se crea la clase con los 2 requisitos: diccionario vacio y ventas totales con valor 0\n",
    "class TiendaOnline:\n",
    "    def __init__(self, nombre, precio, cantidad):\n",
    "        self.nombre = nombre\n",
    "        self.precio = precio\n",
    "        self.cantidad = cantidad\n",
    "    \n",
    "        self.ventas_totales =0.0"
   ]
  },
  {
   "cell_type": "code",
   "execution_count": null,
   "metadata": {},
   "outputs": [],
   "source": [
    "# Se agregan los productos, se agregan las condicionantes y se prueba el codigo\n",
    "def agregar_producto(self, nombre, precio, cantidad):\n",
    "    if nombre in self.nombre:\n",
    "        print(\"ya existe\")\n",
    "    else:\n",
    "        print(\"no existe, lo vamos a agregar\")"
   ]
  },
  {
   "cell_type": "code",
   "execution_count": 11,
   "metadata": {},
   "outputs": [],
   "source": [
    "inventario = TiendaOnline (\"camisa\", \"20\", \"40\")"
   ]
  },
  {
   "cell_type": "code",
   "execution_count": 12,
   "metadata": {},
   "outputs": [
    {
     "data": {
      "text/plain": [
       "{'nombre': 'camisa', 'precio': '20', 'cantidad': '40', 'ventas_totales': 0.0}"
      ]
     },
     "execution_count": 12,
     "metadata": {},
     "output_type": "execute_result"
    }
   ],
   "source": [
    "inventario.__dict__"
   ]
  },
  {
   "cell_type": "code",
   "execution_count": null,
   "metadata": {},
   "outputs": [
    {
     "ename": "AttributeError",
     "evalue": "'TiendaOnline' object has no attribute 'agregar_producto'",
     "output_type": "error",
     "traceback": [
      "\u001b[1;31m---------------------------------------------------------------------------\u001b[0m",
      "\u001b[1;31mAttributeError\u001b[0m                            Traceback (most recent call last)",
      "Cell \u001b[1;32mIn[13], line 1\u001b[0m\n\u001b[1;32m----> 1\u001b[0m inventario\u001b[38;5;241m.\u001b[39magregar_producto(\u001b[38;5;124m\"\u001b[39m\u001b[38;5;124m\"\u001b[39m)\n",
      "\u001b[1;31mAttributeError\u001b[0m: 'TiendaOnline' object has no attribute 'agregar_producto'"
     ]
    }
   ],
   "source": [
    "inventario.agregar_producto"
   ]
  }
 ],
 "metadata": {
  "kernelspec": {
   "display_name": "base",
   "language": "python",
   "name": "python3"
  },
  "language_info": {
   "codemirror_mode": {
    "name": "ipython",
    "version": 3
   },
   "file_extension": ".py",
   "mimetype": "text/x-python",
   "name": "python",
   "nbconvert_exporter": "python",
   "pygments_lexer": "ipython3",
   "version": "3.12.7"
  }
 },
 "nbformat": 4,
 "nbformat_minor": 2
}
