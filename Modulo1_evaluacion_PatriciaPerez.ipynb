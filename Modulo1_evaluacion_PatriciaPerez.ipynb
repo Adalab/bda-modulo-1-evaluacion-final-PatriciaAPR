{
 "cells": [
  {
   "cell_type": "code",
   "execution_count": 1,
   "metadata": {},
   "outputs": [],
   "source": [
    "#se crea la class con un inventario vacio y unas ventas totales de 0\n",
    "class TiendaOnline:\n",
    "    def __init__(self):\n",
    "        self.inventario = []\n",
    "        self.ventas_totales =0,0\n",
    "\n",
    "    #se crean las condicionantes para agregar, actualizar el producto en el inventario\n",
    "    def agregar_producto(self, nombre, precio, cantidad):\n",
    "        for producto in self.inventario:\n",
    "            print(\"ejecutado en todos los elementos\")\n",
    "            if producto[\"nombre\"] == nombre:\n",
    "                print(\"ya existe\")\n",
    "\n",
    "                producto[\"cantidad\"] += cantidad \n",
    "                producto_existente = verdadero\n",
    "                return\n",
    "            \n",
    "        print(\"no ejecutado\")\n",
    "        if not producto_existente:\n",
    "            print(\"crear producto nuevo\")\n",
    "            self.inventario.append({\"nombre\":nombre, \"precio\":precio, \"cantidad\":cantidad})\n",
    "\n",
    "\n",
    "    def ver_inventario(self):\n",
    "        for producto in self.inventario:\n",
    "            nombre = producto[\"nombre\"] \n",
    "            precio = producto [\"precio\"]\n",
    "            cantidad = producto[\"cantidad\"]\n",
    "            print(f\"nombre:{nombre}, precio:{precio}, cantidad{cantidad}\")\n",
    "\n",
    "\n",
    "    def buscar_producto(self, nombre): \n",
    "        encontrado= None\n",
    "                        \n"
   ]
  },
  {
   "cell_type": "code",
   "execution_count": 2,
   "metadata": {},
   "outputs": [],
   "source": [
    "inventario = TiendaOnline()"
   ]
  },
  {
   "cell_type": "code",
   "execution_count": null,
   "metadata": {},
   "outputs": [],
   "source": [
    "tienda.__dict"
   ]
  },
  {
   "cell_type": "code",
   "execution_count": null,
   "metadata": {},
   "outputs": [],
   "source": []
  },
  {
   "cell_type": "code",
   "execution_count": null,
   "metadata": {},
   "outputs": [],
   "source": []
  },
  {
   "cell_type": "code",
   "execution_count": null,
   "metadata": {},
   "outputs": [],
   "source": []
  }
 ],
 "metadata": {
  "kernelspec": {
   "display_name": "base",
   "language": "python",
   "name": "python3"
  },
  "language_info": {
   "codemirror_mode": {
    "name": "ipython",
    "version": 3
   },
   "file_extension": ".py",
   "mimetype": "text/x-python",
   "name": "python",
   "nbconvert_exporter": "python",
   "pygments_lexer": "ipython3",
   "version": "3.12.7"
  }
 },
 "nbformat": 4,
 "nbformat_minor": 2
}
