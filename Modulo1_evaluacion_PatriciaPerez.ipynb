{
 "cells": [
  {
   "cell_type": "code",
   "execution_count": 8,
   "metadata": {},
   "outputs": [],
   "source": [
    "#se crea la class con un inventario vacio y unas ventas totales de 0\n",
    "class TiendaOnline:\n",
    "    def __init__(self):\n",
    "        self.inventario = []\n",
    "        self.ventas_totales =0,0\n",
    "\n",
    "    #se crean las condicionantes para agregar, actualizar el producto en el inventario\n",
    "    def agregar_producto(self, nombre, precio, cantidad):\n",
    "        producto_existente= False\n",
    "        for producto in self.inventario:\n",
    "            print(\"ejecutado en todos los elementos\")\n",
    "            if producto[\"nombre\"] == nombre:\n",
    "                print(\"ya existe\")\n",
    "\n",
    "                producto[\"cantidad\"] += cantidad \n",
    "                producto_existente = True\n",
    "                return\n",
    "            \n",
    "        print(\"no ejecutado\")\n",
    "        if not producto_existente:\n",
    "            print(\"crear producto nuevo\")\n",
    "            self.inventario.append({\"nombre\":nombre, \"precio\":precio, \"cantidad\":cantidad})\n",
    "\n",
    "\n",
    "    def ver_inventario(self):\n",
    "        for producto in self.inventario:\n",
    "            nombre = producto[\"nombre\"] \n",
    "            precio = producto [\"precio\"]\n",
    "            cantidad = producto[\"cantidad\"]\n",
    "            print(f\"nombre:{nombre}, precio:{precio}, cantidad{cantidad}\")\n",
    "\n",
    "\n",
    "    def buscar_producto(self, nombre): \n",
    "        encontrado= None\n",
    "\n",
    "#eliminar un producto\n",
    "    def eliminar_producto(self, nombre):\n",
    "        for producto in self.inventario:\n",
    "            if producto[\"nombre\"].lower() == nombre.lower():\n",
    "                self.inventario.remove(producto)\n",
    "                print(f\"El producto {nombre} ha sido eliminado\")\n",
    "                return\n",
    "                        \n"
   ]
  },
  {
   "cell_type": "code",
   "execution_count": 9,
   "metadata": {},
   "outputs": [],
   "source": [
    "# ejecutamos el inventario\n",
    "inventario = TiendaOnline()"
   ]
  },
  {
   "cell_type": "code",
   "execution_count": 10,
   "metadata": {},
   "outputs": [
    {
     "data": {
      "text/plain": [
       "{'inventario': [], 'ventas_totales': (0, 0)}"
      ]
     },
     "execution_count": 10,
     "metadata": {},
     "output_type": "execute_result"
    }
   ],
   "source": [
    "#revisamos los atributos (actualmente aparecen vacios porque no se le ha introducido los datos)\n",
    "inventario.__dict__"
   ]
  },
  {
   "cell_type": "code",
   "execution_count": 11,
   "metadata": {},
   "outputs": [
    {
     "name": "stdout",
     "output_type": "stream",
     "text": [
      "no ejecutado\n",
      "crear producto nuevo\n"
     ]
    }
   ],
   "source": [
    "#se agregan los productos\n",
    "inventario.agregar_producto(\"camisa\", 20, 40)"
   ]
  },
  {
   "cell_type": "code",
   "execution_count": 12,
   "metadata": {},
   "outputs": [
    {
     "data": {
      "text/plain": [
       "[{'nombre': 'camisa', 'precio': 20, 'cantidad': 40}]"
      ]
     },
     "execution_count": 12,
     "metadata": {},
     "output_type": "execute_result"
    }
   ],
   "source": [
    "# se comprueba si se han agregado los productos que se han introducido\n",
    "inventario.inventario"
   ]
  },
  {
   "cell_type": "code",
   "execution_count": 13,
   "metadata": {},
   "outputs": [
    {
     "name": "stdout",
     "output_type": "stream",
     "text": [
      "ejecutado en todos los elementos\n",
      "no ejecutado\n",
      "crear producto nuevo\n"
     ]
    }
   ],
   "source": [
    "#se agrega al inventario otro producto\n",
    "inventario.agregar_producto(\"pantalon\", 30, 30)"
   ]
  },
  {
   "cell_type": "code",
   "execution_count": 14,
   "metadata": {},
   "outputs": [
    {
     "data": {
      "text/plain": [
       "[{'nombre': 'camisa', 'precio': 20, 'cantidad': 40},\n",
       " {'nombre': 'pantalon', 'precio': 30, 'cantidad': 30}]"
      ]
     },
     "execution_count": 14,
     "metadata": {},
     "output_type": "execute_result"
    }
   ],
   "source": [
    "# se vuelve a comprobar que se ha agregado el nuevo producto\n",
    "inventario.inventario"
   ]
  }
 ],
 "metadata": {
  "kernelspec": {
   "display_name": "base",
   "language": "python",
   "name": "python3"
  },
  "language_info": {
   "codemirror_mode": {
    "name": "ipython",
    "version": 3
   },
   "file_extension": ".py",
   "mimetype": "text/x-python",
   "name": "python",
   "nbconvert_exporter": "python",
   "pygments_lexer": "ipython3",
   "version": "3.12.7"
  }
 },
 "nbformat": 4,
 "nbformat_minor": 2
}
